{
 "cells": [
  {
   "cell_type": "code",
   "execution_count": 1,
   "metadata": {},
   "outputs": [],
   "source": [
    "import cv2\n",
    "import os\n",
    "\n",
    "def apply_data_augmentation(image_path, save_dir):\n",
    "    image = cv2.imread(image_path)\n",
    "    file_name = image_path.split('/')[-1]\n",
    "    label = file_name.split('\\\\')[-1].split('_')[0]\n",
    "\n",
    "    flipped_image = cv2.flip(image, 1)\n",
    "    \n",
    "    save_path = os.path.join(save_dir, '{}_flipped_'.format(label) + os.path.basename(image_path))\n",
    "    cv2.imwrite(save_path, flipped_image)\n",
    "\n",
    "\n",
    "    for rotation_angle in [45, 90, 135, 180, 225, 270, 315]:\n",
    "        rotation_matrix = cv2.getRotationMatrix2D((image.shape[1] / 2, image.shape[0] / 2), rotation_angle, 1)\n",
    "        rotated_image = cv2.warpAffine(image, rotation_matrix, (image.shape[1], image.shape[0]))\n",
    "        save_path = os.path.join(save_dir, '{}_rotated{}_'.format(label, rotation_angle) + os.path.basename(image_path))\n",
    "        cv2.imwrite(save_path, rotated_image)"
   ]
  },
  {
   "cell_type": "code",
   "execution_count": 3,
   "metadata": {},
   "outputs": [],
   "source": [
    "dataset_dir = r'C:\\Users\\AHB\\Desktop\\me'\n",
    "save_dir = r'C:\\Users\\AHB\\Desktop\\me'\n",
    "\n",
    "for image_file in os.listdir(dataset_dir):\n",
    "    image_path = os.path.join(dataset_dir, image_file)\n",
    "    apply_data_augmentation(image_path, save_dir)"
   ]
  },
  {
   "cell_type": "code",
   "execution_count": 4,
   "metadata": {},
   "outputs": [],
   "source": [
    "import glob\n",
    "\n",
    "def extract_photo_links(folder_path):\n",
    "    photo_links = []\n",
    "    photo_labels = []\n",
    "\n",
    "    file_pattern = folder_path + '/*.jpg'  \n",
    "\n",
    "    for file_path in glob.glob(file_pattern):\n",
    "        file_name = file_path.split('/')[-1]  \n",
    "        label = file_name.split('\\\\')[-1].split('_')[0]  \n",
    "\n",
    "        if label == '1':\n",
    "            photo_labels.append('Amirhossein')\n",
    "        elif label == '2':\n",
    "            photo_labels.append('Morteza')\n",
    "        else:\n",
    "            photo_labels.append(label)\n",
    "        \n",
    "        photo_links.append(file_name)\n",
    "    \n",
    "    print('photo_Links Len: {}'.format(len(photo_links)))\n",
    "    print('photo_Labels Len: {}'.format(len(photo_labels)))\n",
    "    return photo_links"
   ]
  },
  {
   "cell_type": "code",
   "execution_count": 5,
   "metadata": {},
   "outputs": [
    {
     "name": "stdout",
     "output_type": "stream",
     "text": [
      "photo_Links Len: 261\n",
      "photo_Labels Len: 261\n",
      "['C:\\\\Users\\\\AHB\\\\Desktop\\\\me\\\\1_1.jpg', 'C:\\\\Users\\\\AHB\\\\Desktop\\\\me\\\\1_10.jpg', 'C:\\\\Users\\\\AHB\\\\Desktop\\\\me\\\\1_11.jpg', 'C:\\\\Users\\\\AHB\\\\Desktop\\\\me\\\\1_12.jpg', 'C:\\\\Users\\\\AHB\\\\Desktop\\\\me\\\\1_13.jpg', 'C:\\\\Users\\\\AHB\\\\Desktop\\\\me\\\\1_14.jpg', 'C:\\\\Users\\\\AHB\\\\Desktop\\\\me\\\\1_15.jpg', 'C:\\\\Users\\\\AHB\\\\Desktop\\\\me\\\\1_16.jpg', 'C:\\\\Users\\\\AHB\\\\Desktop\\\\me\\\\1_17.jpg', 'C:\\\\Users\\\\AHB\\\\Desktop\\\\me\\\\1_18.jpg', 'C:\\\\Users\\\\AHB\\\\Desktop\\\\me\\\\1_19.jpg', 'C:\\\\Users\\\\AHB\\\\Desktop\\\\me\\\\1_2.jpg', 'C:\\\\Users\\\\AHB\\\\Desktop\\\\me\\\\1_20.jpg', 'C:\\\\Users\\\\AHB\\\\Desktop\\\\me\\\\1_21.jpg', 'C:\\\\Users\\\\AHB\\\\Desktop\\\\me\\\\1_3.jpg', 'C:\\\\Users\\\\AHB\\\\Desktop\\\\me\\\\1_4.jpg', 'C:\\\\Users\\\\AHB\\\\Desktop\\\\me\\\\1_5.jpg', 'C:\\\\Users\\\\AHB\\\\Desktop\\\\me\\\\1_6.jpg', 'C:\\\\Users\\\\AHB\\\\Desktop\\\\me\\\\1_7.jpg', 'C:\\\\Users\\\\AHB\\\\Desktop\\\\me\\\\1_8.jpg', 'C:\\\\Users\\\\AHB\\\\Desktop\\\\me\\\\1_9.jpg', 'C:\\\\Users\\\\AHB\\\\Desktop\\\\me\\\\1_flipped_1_1.jpg', 'C:\\\\Users\\\\AHB\\\\Desktop\\\\me\\\\1_flipped_1_10.jpg', 'C:\\\\Users\\\\AHB\\\\Desktop\\\\me\\\\1_flipped_1_11.jpg', 'C:\\\\Users\\\\AHB\\\\Desktop\\\\me\\\\1_flipped_1_12.jpg', 'C:\\\\Users\\\\AHB\\\\Desktop\\\\me\\\\1_flipped_1_13.jpg', 'C:\\\\Users\\\\AHB\\\\Desktop\\\\me\\\\1_flipped_1_14.jpg', 'C:\\\\Users\\\\AHB\\\\Desktop\\\\me\\\\1_flipped_1_15.jpg', 'C:\\\\Users\\\\AHB\\\\Desktop\\\\me\\\\1_flipped_1_16.jpg', 'C:\\\\Users\\\\AHB\\\\Desktop\\\\me\\\\1_flipped_1_17.jpg', 'C:\\\\Users\\\\AHB\\\\Desktop\\\\me\\\\1_flipped_1_18.jpg', 'C:\\\\Users\\\\AHB\\\\Desktop\\\\me\\\\1_flipped_1_19.jpg', 'C:\\\\Users\\\\AHB\\\\Desktop\\\\me\\\\1_flipped_1_2.jpg', 'C:\\\\Users\\\\AHB\\\\Desktop\\\\me\\\\1_flipped_1_20.jpg', 'C:\\\\Users\\\\AHB\\\\Desktop\\\\me\\\\1_flipped_1_21.jpg', 'C:\\\\Users\\\\AHB\\\\Desktop\\\\me\\\\1_flipped_1_3.jpg', 'C:\\\\Users\\\\AHB\\\\Desktop\\\\me\\\\1_flipped_1_4.jpg', 'C:\\\\Users\\\\AHB\\\\Desktop\\\\me\\\\1_flipped_1_5.jpg', 'C:\\\\Users\\\\AHB\\\\Desktop\\\\me\\\\1_flipped_1_6.jpg', 'C:\\\\Users\\\\AHB\\\\Desktop\\\\me\\\\1_flipped_1_7.jpg', 'C:\\\\Users\\\\AHB\\\\Desktop\\\\me\\\\1_flipped_1_8.jpg', 'C:\\\\Users\\\\AHB\\\\Desktop\\\\me\\\\1_flipped_1_9.jpg', 'C:\\\\Users\\\\AHB\\\\Desktop\\\\me\\\\1_rotated135_1_1.jpg', 'C:\\\\Users\\\\AHB\\\\Desktop\\\\me\\\\1_rotated135_1_10.jpg', 'C:\\\\Users\\\\AHB\\\\Desktop\\\\me\\\\1_rotated135_1_11.jpg', 'C:\\\\Users\\\\AHB\\\\Desktop\\\\me\\\\1_rotated135_1_12.jpg', 'C:\\\\Users\\\\AHB\\\\Desktop\\\\me\\\\1_rotated135_1_13.jpg', 'C:\\\\Users\\\\AHB\\\\Desktop\\\\me\\\\1_rotated135_1_14.jpg', 'C:\\\\Users\\\\AHB\\\\Desktop\\\\me\\\\1_rotated135_1_15.jpg', 'C:\\\\Users\\\\AHB\\\\Desktop\\\\me\\\\1_rotated135_1_16.jpg', 'C:\\\\Users\\\\AHB\\\\Desktop\\\\me\\\\1_rotated135_1_17.jpg', 'C:\\\\Users\\\\AHB\\\\Desktop\\\\me\\\\1_rotated135_1_18.jpg', 'C:\\\\Users\\\\AHB\\\\Desktop\\\\me\\\\1_rotated135_1_19.jpg', 'C:\\\\Users\\\\AHB\\\\Desktop\\\\me\\\\1_rotated135_1_2.jpg', 'C:\\\\Users\\\\AHB\\\\Desktop\\\\me\\\\1_rotated135_1_20.jpg', 'C:\\\\Users\\\\AHB\\\\Desktop\\\\me\\\\1_rotated135_1_21.jpg', 'C:\\\\Users\\\\AHB\\\\Desktop\\\\me\\\\1_rotated135_1_3.jpg', 'C:\\\\Users\\\\AHB\\\\Desktop\\\\me\\\\1_rotated135_1_4.jpg', 'C:\\\\Users\\\\AHB\\\\Desktop\\\\me\\\\1_rotated135_1_5.jpg', 'C:\\\\Users\\\\AHB\\\\Desktop\\\\me\\\\1_rotated135_1_6.jpg', 'C:\\\\Users\\\\AHB\\\\Desktop\\\\me\\\\1_rotated135_1_7.jpg', 'C:\\\\Users\\\\AHB\\\\Desktop\\\\me\\\\1_rotated135_1_8.jpg', 'C:\\\\Users\\\\AHB\\\\Desktop\\\\me\\\\1_rotated135_1_9.jpg', 'C:\\\\Users\\\\AHB\\\\Desktop\\\\me\\\\1_rotated180_1_1.jpg', 'C:\\\\Users\\\\AHB\\\\Desktop\\\\me\\\\1_rotated180_1_10.jpg', 'C:\\\\Users\\\\AHB\\\\Desktop\\\\me\\\\1_rotated180_1_11.jpg', 'C:\\\\Users\\\\AHB\\\\Desktop\\\\me\\\\1_rotated180_1_12.jpg', 'C:\\\\Users\\\\AHB\\\\Desktop\\\\me\\\\1_rotated180_1_13.jpg', 'C:\\\\Users\\\\AHB\\\\Desktop\\\\me\\\\1_rotated180_1_14.jpg', 'C:\\\\Users\\\\AHB\\\\Desktop\\\\me\\\\1_rotated180_1_15.jpg', 'C:\\\\Users\\\\AHB\\\\Desktop\\\\me\\\\1_rotated180_1_16.jpg', 'C:\\\\Users\\\\AHB\\\\Desktop\\\\me\\\\1_rotated180_1_17.jpg', 'C:\\\\Users\\\\AHB\\\\Desktop\\\\me\\\\1_rotated180_1_18.jpg', 'C:\\\\Users\\\\AHB\\\\Desktop\\\\me\\\\1_rotated180_1_19.jpg', 'C:\\\\Users\\\\AHB\\\\Desktop\\\\me\\\\1_rotated180_1_2.jpg', 'C:\\\\Users\\\\AHB\\\\Desktop\\\\me\\\\1_rotated180_1_20.jpg', 'C:\\\\Users\\\\AHB\\\\Desktop\\\\me\\\\1_rotated180_1_21.jpg', 'C:\\\\Users\\\\AHB\\\\Desktop\\\\me\\\\1_rotated180_1_3.jpg', 'C:\\\\Users\\\\AHB\\\\Desktop\\\\me\\\\1_rotated180_1_4.jpg', 'C:\\\\Users\\\\AHB\\\\Desktop\\\\me\\\\1_rotated180_1_5.jpg', 'C:\\\\Users\\\\AHB\\\\Desktop\\\\me\\\\1_rotated180_1_6.jpg', 'C:\\\\Users\\\\AHB\\\\Desktop\\\\me\\\\1_rotated180_1_7.jpg', 'C:\\\\Users\\\\AHB\\\\Desktop\\\\me\\\\1_rotated180_1_8.jpg', 'C:\\\\Users\\\\AHB\\\\Desktop\\\\me\\\\1_rotated180_1_9.jpg', 'C:\\\\Users\\\\AHB\\\\Desktop\\\\me\\\\1_rotated225_1_1.jpg', 'C:\\\\Users\\\\AHB\\\\Desktop\\\\me\\\\1_rotated225_1_10.jpg', 'C:\\\\Users\\\\AHB\\\\Desktop\\\\me\\\\1_rotated225_1_11.jpg', 'C:\\\\Users\\\\AHB\\\\Desktop\\\\me\\\\1_rotated225_1_12.jpg', 'C:\\\\Users\\\\AHB\\\\Desktop\\\\me\\\\1_rotated225_1_13.jpg', 'C:\\\\Users\\\\AHB\\\\Desktop\\\\me\\\\1_rotated225_1_14.jpg', 'C:\\\\Users\\\\AHB\\\\Desktop\\\\me\\\\1_rotated225_1_15.jpg', 'C:\\\\Users\\\\AHB\\\\Desktop\\\\me\\\\1_rotated225_1_16.jpg', 'C:\\\\Users\\\\AHB\\\\Desktop\\\\me\\\\1_rotated225_1_17.jpg', 'C:\\\\Users\\\\AHB\\\\Desktop\\\\me\\\\1_rotated225_1_18.jpg', 'C:\\\\Users\\\\AHB\\\\Desktop\\\\me\\\\1_rotated225_1_19.jpg', 'C:\\\\Users\\\\AHB\\\\Desktop\\\\me\\\\1_rotated225_1_2.jpg', 'C:\\\\Users\\\\AHB\\\\Desktop\\\\me\\\\1_rotated225_1_20.jpg', 'C:\\\\Users\\\\AHB\\\\Desktop\\\\me\\\\1_rotated225_1_21.jpg', 'C:\\\\Users\\\\AHB\\\\Desktop\\\\me\\\\1_rotated225_1_3.jpg', 'C:\\\\Users\\\\AHB\\\\Desktop\\\\me\\\\1_rotated225_1_4.jpg', 'C:\\\\Users\\\\AHB\\\\Desktop\\\\me\\\\1_rotated225_1_5.jpg', 'C:\\\\Users\\\\AHB\\\\Desktop\\\\me\\\\1_rotated225_1_6.jpg', 'C:\\\\Users\\\\AHB\\\\Desktop\\\\me\\\\1_rotated225_1_7.jpg', 'C:\\\\Users\\\\AHB\\\\Desktop\\\\me\\\\1_rotated225_1_8.jpg', 'C:\\\\Users\\\\AHB\\\\Desktop\\\\me\\\\1_rotated225_1_9.jpg', 'C:\\\\Users\\\\AHB\\\\Desktop\\\\me\\\\1_rotated270_1_1.jpg', 'C:\\\\Users\\\\AHB\\\\Desktop\\\\me\\\\1_rotated270_1_10.jpg', 'C:\\\\Users\\\\AHB\\\\Desktop\\\\me\\\\1_rotated270_1_11.jpg', 'C:\\\\Users\\\\AHB\\\\Desktop\\\\me\\\\1_rotated270_1_12.jpg', 'C:\\\\Users\\\\AHB\\\\Desktop\\\\me\\\\1_rotated270_1_13.jpg', 'C:\\\\Users\\\\AHB\\\\Desktop\\\\me\\\\1_rotated270_1_14.jpg', 'C:\\\\Users\\\\AHB\\\\Desktop\\\\me\\\\1_rotated270_1_15.jpg', 'C:\\\\Users\\\\AHB\\\\Desktop\\\\me\\\\1_rotated270_1_16.jpg', 'C:\\\\Users\\\\AHB\\\\Desktop\\\\me\\\\1_rotated270_1_17.jpg', 'C:\\\\Users\\\\AHB\\\\Desktop\\\\me\\\\1_rotated270_1_18.jpg', 'C:\\\\Users\\\\AHB\\\\Desktop\\\\me\\\\1_rotated270_1_19.jpg', 'C:\\\\Users\\\\AHB\\\\Desktop\\\\me\\\\1_rotated270_1_2.jpg', 'C:\\\\Users\\\\AHB\\\\Desktop\\\\me\\\\1_rotated270_1_20.jpg', 'C:\\\\Users\\\\AHB\\\\Desktop\\\\me\\\\1_rotated270_1_21.jpg', 'C:\\\\Users\\\\AHB\\\\Desktop\\\\me\\\\1_rotated270_1_3.jpg', 'C:\\\\Users\\\\AHB\\\\Desktop\\\\me\\\\1_rotated270_1_4.jpg', 'C:\\\\Users\\\\AHB\\\\Desktop\\\\me\\\\1_rotated270_1_5.jpg', 'C:\\\\Users\\\\AHB\\\\Desktop\\\\me\\\\1_rotated270_1_6.jpg', 'C:\\\\Users\\\\AHB\\\\Desktop\\\\me\\\\1_rotated270_1_7.jpg', 'C:\\\\Users\\\\AHB\\\\Desktop\\\\me\\\\1_rotated270_1_8.jpg', 'C:\\\\Users\\\\AHB\\\\Desktop\\\\me\\\\1_rotated270_1_9.jpg', 'C:\\\\Users\\\\AHB\\\\Desktop\\\\me\\\\1_rotated315_1_1.jpg', 'C:\\\\Users\\\\AHB\\\\Desktop\\\\me\\\\1_rotated315_1_10.jpg', 'C:\\\\Users\\\\AHB\\\\Desktop\\\\me\\\\1_rotated315_1_11.jpg', 'C:\\\\Users\\\\AHB\\\\Desktop\\\\me\\\\1_rotated315_1_12.jpg', 'C:\\\\Users\\\\AHB\\\\Desktop\\\\me\\\\1_rotated315_1_13.jpg', 'C:\\\\Users\\\\AHB\\\\Desktop\\\\me\\\\1_rotated315_1_14.jpg', 'C:\\\\Users\\\\AHB\\\\Desktop\\\\me\\\\1_rotated315_1_15.jpg', 'C:\\\\Users\\\\AHB\\\\Desktop\\\\me\\\\1_rotated315_1_16.jpg', 'C:\\\\Users\\\\AHB\\\\Desktop\\\\me\\\\1_rotated315_1_17.jpg', 'C:\\\\Users\\\\AHB\\\\Desktop\\\\me\\\\1_rotated315_1_18.jpg', 'C:\\\\Users\\\\AHB\\\\Desktop\\\\me\\\\1_rotated315_1_19.jpg', 'C:\\\\Users\\\\AHB\\\\Desktop\\\\me\\\\1_rotated315_1_2.jpg', 'C:\\\\Users\\\\AHB\\\\Desktop\\\\me\\\\1_rotated315_1_20.jpg', 'C:\\\\Users\\\\AHB\\\\Desktop\\\\me\\\\1_rotated315_1_21.jpg', 'C:\\\\Users\\\\AHB\\\\Desktop\\\\me\\\\1_rotated315_1_3.jpg', 'C:\\\\Users\\\\AHB\\\\Desktop\\\\me\\\\1_rotated315_1_4.jpg', 'C:\\\\Users\\\\AHB\\\\Desktop\\\\me\\\\1_rotated315_1_5.jpg', 'C:\\\\Users\\\\AHB\\\\Desktop\\\\me\\\\1_rotated315_1_6.jpg', 'C:\\\\Users\\\\AHB\\\\Desktop\\\\me\\\\1_rotated315_1_7.jpg', 'C:\\\\Users\\\\AHB\\\\Desktop\\\\me\\\\1_rotated315_1_8.jpg', 'C:\\\\Users\\\\AHB\\\\Desktop\\\\me\\\\1_rotated315_1_9.jpg', 'C:\\\\Users\\\\AHB\\\\Desktop\\\\me\\\\1_rotated45_1_1.jpg', 'C:\\\\Users\\\\AHB\\\\Desktop\\\\me\\\\1_rotated45_1_10.jpg', 'C:\\\\Users\\\\AHB\\\\Desktop\\\\me\\\\1_rotated45_1_11.jpg', 'C:\\\\Users\\\\AHB\\\\Desktop\\\\me\\\\1_rotated45_1_12.jpg', 'C:\\\\Users\\\\AHB\\\\Desktop\\\\me\\\\1_rotated45_1_13.jpg', 'C:\\\\Users\\\\AHB\\\\Desktop\\\\me\\\\1_rotated45_1_14.jpg', 'C:\\\\Users\\\\AHB\\\\Desktop\\\\me\\\\1_rotated45_1_15.jpg', 'C:\\\\Users\\\\AHB\\\\Desktop\\\\me\\\\1_rotated45_1_16.jpg', 'C:\\\\Users\\\\AHB\\\\Desktop\\\\me\\\\1_rotated45_1_17.jpg', 'C:\\\\Users\\\\AHB\\\\Desktop\\\\me\\\\1_rotated45_1_18.jpg', 'C:\\\\Users\\\\AHB\\\\Desktop\\\\me\\\\1_rotated45_1_19.jpg', 'C:\\\\Users\\\\AHB\\\\Desktop\\\\me\\\\1_rotated45_1_2.jpg', 'C:\\\\Users\\\\AHB\\\\Desktop\\\\me\\\\1_rotated45_1_20.jpg', 'C:\\\\Users\\\\AHB\\\\Desktop\\\\me\\\\1_rotated45_1_21.jpg', 'C:\\\\Users\\\\AHB\\\\Desktop\\\\me\\\\1_rotated45_1_3.jpg', 'C:\\\\Users\\\\AHB\\\\Desktop\\\\me\\\\1_rotated45_1_4.jpg', 'C:\\\\Users\\\\AHB\\\\Desktop\\\\me\\\\1_rotated45_1_5.jpg', 'C:\\\\Users\\\\AHB\\\\Desktop\\\\me\\\\1_rotated45_1_6.jpg', 'C:\\\\Users\\\\AHB\\\\Desktop\\\\me\\\\1_rotated45_1_7.jpg', 'C:\\\\Users\\\\AHB\\\\Desktop\\\\me\\\\1_rotated45_1_8.jpg', 'C:\\\\Users\\\\AHB\\\\Desktop\\\\me\\\\1_rotated45_1_9.jpg', 'C:\\\\Users\\\\AHB\\\\Desktop\\\\me\\\\1_rotated90_1_1.jpg', 'C:\\\\Users\\\\AHB\\\\Desktop\\\\me\\\\1_rotated90_1_10.jpg', 'C:\\\\Users\\\\AHB\\\\Desktop\\\\me\\\\1_rotated90_1_11.jpg', 'C:\\\\Users\\\\AHB\\\\Desktop\\\\me\\\\1_rotated90_1_12.jpg', 'C:\\\\Users\\\\AHB\\\\Desktop\\\\me\\\\1_rotated90_1_13.jpg', 'C:\\\\Users\\\\AHB\\\\Desktop\\\\me\\\\1_rotated90_1_14.jpg', 'C:\\\\Users\\\\AHB\\\\Desktop\\\\me\\\\1_rotated90_1_15.jpg', 'C:\\\\Users\\\\AHB\\\\Desktop\\\\me\\\\1_rotated90_1_16.jpg', 'C:\\\\Users\\\\AHB\\\\Desktop\\\\me\\\\1_rotated90_1_17.jpg', 'C:\\\\Users\\\\AHB\\\\Desktop\\\\me\\\\1_rotated90_1_18.jpg', 'C:\\\\Users\\\\AHB\\\\Desktop\\\\me\\\\1_rotated90_1_19.jpg', 'C:\\\\Users\\\\AHB\\\\Desktop\\\\me\\\\1_rotated90_1_2.jpg', 'C:\\\\Users\\\\AHB\\\\Desktop\\\\me\\\\1_rotated90_1_20.jpg', 'C:\\\\Users\\\\AHB\\\\Desktop\\\\me\\\\1_rotated90_1_21.jpg', 'C:\\\\Users\\\\AHB\\\\Desktop\\\\me\\\\1_rotated90_1_3.jpg', 'C:\\\\Users\\\\AHB\\\\Desktop\\\\me\\\\1_rotated90_1_4.jpg', 'C:\\\\Users\\\\AHB\\\\Desktop\\\\me\\\\1_rotated90_1_5.jpg', 'C:\\\\Users\\\\AHB\\\\Desktop\\\\me\\\\1_rotated90_1_6.jpg', 'C:\\\\Users\\\\AHB\\\\Desktop\\\\me\\\\1_rotated90_1_7.jpg', 'C:\\\\Users\\\\AHB\\\\Desktop\\\\me\\\\1_rotated90_1_8.jpg', 'C:\\\\Users\\\\AHB\\\\Desktop\\\\me\\\\1_rotated90_1_9.jpg', 'C:\\\\Users\\\\AHB\\\\Desktop\\\\me\\\\2_1.jpg', 'C:\\\\Users\\\\AHB\\\\Desktop\\\\me\\\\2_2.jpg', 'C:\\\\Users\\\\AHB\\\\Desktop\\\\me\\\\2_3.jpg', 'C:\\\\Users\\\\AHB\\\\Desktop\\\\me\\\\2_4.jpg', 'C:\\\\Users\\\\AHB\\\\Desktop\\\\me\\\\2_5.jpg', 'C:\\\\Users\\\\AHB\\\\Desktop\\\\me\\\\2_6.jpg', 'C:\\\\Users\\\\AHB\\\\Desktop\\\\me\\\\2_7.jpg', 'C:\\\\Users\\\\AHB\\\\Desktop\\\\me\\\\2_8.jpg', 'C:\\\\Users\\\\AHB\\\\Desktop\\\\me\\\\2_flipped_2_1.jpg', 'C:\\\\Users\\\\AHB\\\\Desktop\\\\me\\\\2_flipped_2_2.jpg', 'C:\\\\Users\\\\AHB\\\\Desktop\\\\me\\\\2_flipped_2_3.jpg', 'C:\\\\Users\\\\AHB\\\\Desktop\\\\me\\\\2_flipped_2_4.jpg', 'C:\\\\Users\\\\AHB\\\\Desktop\\\\me\\\\2_flipped_2_5.jpg', 'C:\\\\Users\\\\AHB\\\\Desktop\\\\me\\\\2_flipped_2_6.jpg', 'C:\\\\Users\\\\AHB\\\\Desktop\\\\me\\\\2_flipped_2_7.jpg', 'C:\\\\Users\\\\AHB\\\\Desktop\\\\me\\\\2_flipped_2_8.jpg', 'C:\\\\Users\\\\AHB\\\\Desktop\\\\me\\\\2_rotated135_2_1.jpg', 'C:\\\\Users\\\\AHB\\\\Desktop\\\\me\\\\2_rotated135_2_2.jpg', 'C:\\\\Users\\\\AHB\\\\Desktop\\\\me\\\\2_rotated135_2_3.jpg', 'C:\\\\Users\\\\AHB\\\\Desktop\\\\me\\\\2_rotated135_2_4.jpg', 'C:\\\\Users\\\\AHB\\\\Desktop\\\\me\\\\2_rotated135_2_5.jpg', 'C:\\\\Users\\\\AHB\\\\Desktop\\\\me\\\\2_rotated135_2_6.jpg', 'C:\\\\Users\\\\AHB\\\\Desktop\\\\me\\\\2_rotated135_2_7.jpg', 'C:\\\\Users\\\\AHB\\\\Desktop\\\\me\\\\2_rotated135_2_8.jpg', 'C:\\\\Users\\\\AHB\\\\Desktop\\\\me\\\\2_rotated180_2_1.jpg', 'C:\\\\Users\\\\AHB\\\\Desktop\\\\me\\\\2_rotated180_2_2.jpg', 'C:\\\\Users\\\\AHB\\\\Desktop\\\\me\\\\2_rotated180_2_3.jpg', 'C:\\\\Users\\\\AHB\\\\Desktop\\\\me\\\\2_rotated180_2_4.jpg', 'C:\\\\Users\\\\AHB\\\\Desktop\\\\me\\\\2_rotated180_2_5.jpg', 'C:\\\\Users\\\\AHB\\\\Desktop\\\\me\\\\2_rotated180_2_6.jpg', 'C:\\\\Users\\\\AHB\\\\Desktop\\\\me\\\\2_rotated180_2_7.jpg', 'C:\\\\Users\\\\AHB\\\\Desktop\\\\me\\\\2_rotated180_2_8.jpg', 'C:\\\\Users\\\\AHB\\\\Desktop\\\\me\\\\2_rotated225_2_1.jpg', 'C:\\\\Users\\\\AHB\\\\Desktop\\\\me\\\\2_rotated225_2_2.jpg', 'C:\\\\Users\\\\AHB\\\\Desktop\\\\me\\\\2_rotated225_2_3.jpg', 'C:\\\\Users\\\\AHB\\\\Desktop\\\\me\\\\2_rotated225_2_4.jpg', 'C:\\\\Users\\\\AHB\\\\Desktop\\\\me\\\\2_rotated225_2_5.jpg', 'C:\\\\Users\\\\AHB\\\\Desktop\\\\me\\\\2_rotated225_2_6.jpg', 'C:\\\\Users\\\\AHB\\\\Desktop\\\\me\\\\2_rotated225_2_7.jpg', 'C:\\\\Users\\\\AHB\\\\Desktop\\\\me\\\\2_rotated225_2_8.jpg', 'C:\\\\Users\\\\AHB\\\\Desktop\\\\me\\\\2_rotated270_2_1.jpg', 'C:\\\\Users\\\\AHB\\\\Desktop\\\\me\\\\2_rotated270_2_2.jpg', 'C:\\\\Users\\\\AHB\\\\Desktop\\\\me\\\\2_rotated270_2_3.jpg', 'C:\\\\Users\\\\AHB\\\\Desktop\\\\me\\\\2_rotated270_2_4.jpg', 'C:\\\\Users\\\\AHB\\\\Desktop\\\\me\\\\2_rotated270_2_5.jpg', 'C:\\\\Users\\\\AHB\\\\Desktop\\\\me\\\\2_rotated270_2_6.jpg', 'C:\\\\Users\\\\AHB\\\\Desktop\\\\me\\\\2_rotated270_2_7.jpg', 'C:\\\\Users\\\\AHB\\\\Desktop\\\\me\\\\2_rotated270_2_8.jpg', 'C:\\\\Users\\\\AHB\\\\Desktop\\\\me\\\\2_rotated315_2_1.jpg', 'C:\\\\Users\\\\AHB\\\\Desktop\\\\me\\\\2_rotated315_2_2.jpg', 'C:\\\\Users\\\\AHB\\\\Desktop\\\\me\\\\2_rotated315_2_3.jpg', 'C:\\\\Users\\\\AHB\\\\Desktop\\\\me\\\\2_rotated315_2_4.jpg', 'C:\\\\Users\\\\AHB\\\\Desktop\\\\me\\\\2_rotated315_2_5.jpg', 'C:\\\\Users\\\\AHB\\\\Desktop\\\\me\\\\2_rotated315_2_6.jpg', 'C:\\\\Users\\\\AHB\\\\Desktop\\\\me\\\\2_rotated315_2_7.jpg', 'C:\\\\Users\\\\AHB\\\\Desktop\\\\me\\\\2_rotated315_2_8.jpg', 'C:\\\\Users\\\\AHB\\\\Desktop\\\\me\\\\2_rotated45_2_1.jpg', 'C:\\\\Users\\\\AHB\\\\Desktop\\\\me\\\\2_rotated45_2_2.jpg', 'C:\\\\Users\\\\AHB\\\\Desktop\\\\me\\\\2_rotated45_2_3.jpg', 'C:\\\\Users\\\\AHB\\\\Desktop\\\\me\\\\2_rotated45_2_4.jpg', 'C:\\\\Users\\\\AHB\\\\Desktop\\\\me\\\\2_rotated45_2_5.jpg', 'C:\\\\Users\\\\AHB\\\\Desktop\\\\me\\\\2_rotated45_2_6.jpg', 'C:\\\\Users\\\\AHB\\\\Desktop\\\\me\\\\2_rotated45_2_7.jpg', 'C:\\\\Users\\\\AHB\\\\Desktop\\\\me\\\\2_rotated45_2_8.jpg', 'C:\\\\Users\\\\AHB\\\\Desktop\\\\me\\\\2_rotated90_2_1.jpg', 'C:\\\\Users\\\\AHB\\\\Desktop\\\\me\\\\2_rotated90_2_2.jpg', 'C:\\\\Users\\\\AHB\\\\Desktop\\\\me\\\\2_rotated90_2_3.jpg', 'C:\\\\Users\\\\AHB\\\\Desktop\\\\me\\\\2_rotated90_2_4.jpg', 'C:\\\\Users\\\\AHB\\\\Desktop\\\\me\\\\2_rotated90_2_5.jpg', 'C:\\\\Users\\\\AHB\\\\Desktop\\\\me\\\\2_rotated90_2_6.jpg', 'C:\\\\Users\\\\AHB\\\\Desktop\\\\me\\\\2_rotated90_2_7.jpg', 'C:\\\\Users\\\\AHB\\\\Desktop\\\\me\\\\2_rotated90_2_8.jpg']\n"
     ]
    }
   ],
   "source": [
    "folder_path = r'C:\\Users\\AHB\\Desktop\\me'\n",
    "links = extract_photo_links(folder_path)\n",
    "print(links)"
   ]
  },
  {
   "cell_type": "code",
   "execution_count": 6,
   "metadata": {},
   "outputs": [],
   "source": [
    "def detect_faces(image):\n",
    "    gray = cv2.cvtColor(image, cv2.COLOR_BGR2GRAY)\n",
    "    face_cascade = cv2.CascadeClassifier(cv2.data.haarcascades + 'haarcascade_frontalface_default.xml')\n",
    "    faces = face_cascade.detectMultiScale(gray, scaleFactor=1.1, minNeighbors=5, minSize=(30, 30))\n",
    "    return faces"
   ]
  },
  {
   "cell_type": "code",
   "execution_count": 7,
   "metadata": {},
   "outputs": [],
   "source": [
    "def load_training_data(folder_path):\n",
    "    labels = []\n",
    "    face_images = extract_photo_links(folder_path)\n",
    "    face_descriptors = []\n",
    "\n",
    "    for image_path in face_images:\n",
    "        image = cv2.imread(image_path)\n",
    "        faces = detect_faces(image)\n",
    "\n",
    "        if len(faces) != 1:\n",
    "            continue\n",
    "\n",
    "        file_name = image_path.split('/')[-1]  \n",
    "        label = file_name.split('\\\\')[-1].split('_')[0]\n",
    "\n",
    "        if label == '1':\n",
    "            labels.append('Amirhossein')\n",
    "        elif label == '2':\n",
    "            labels.append('Morteza')\n",
    "        else:\n",
    "            labels.append(label)\n",
    "        \n",
    "        (x, y, w, h) = faces[0]\n",
    "        face_roi = cv2.resize(image[y:y+h, x:x+w], (100, 100))\n",
    "        face_descriptors.append(face_roi.flatten())\n",
    "        \n",
    "    print(labels)\n",
    "\n",
    "    return face_descriptors, labels"
   ]
  },
  {
   "cell_type": "code",
   "execution_count": 8,
   "metadata": {},
   "outputs": [],
   "source": [
    "from sklearn.svm import OneClassSVM, SVC\n",
    "\n",
    "\n",
    "def train_one_class_svm(face_descriptors):\n",
    "    one_class_svm = OneClassSVM(kernel='rbf')\n",
    "    one_class_svm.fit(face_descriptors)\n",
    "    return one_class_svm\n",
    "\n",
    "\n",
    "def train_svm(face_descriptors, labels):\n",
    "    svm_classifier = SVC(kernel='rbf')\n",
    "    svm_classifier.fit(face_descriptors, labels)\n",
    "    return svm_classifier"
   ]
  },
  {
   "cell_type": "code",
   "execution_count": 9,
   "metadata": {},
   "outputs": [],
   "source": [
    "def authenticate_face(face_image, svm_classifier):\n",
    "    faces = detect_faces(face_image)\n",
    "    if len(faces) != 1:\n",
    "        return False\n",
    "\n",
    "    (x, y, w, h) = faces[0]\n",
    "    face_roi = cv2.resize(face_image[y:y+h, x:x+w], (100, 100))\n",
    "    face_descriptor = face_roi.flatten()\n",
    "    prediction = svm_classifier.predict([face_descriptor])\n",
    "\n",
    "    return prediction[0] if prediction else None"
   ]
  },
  {
   "cell_type": "code",
   "execution_count": 10,
   "metadata": {},
   "outputs": [
    {
     "name": "stdout",
     "output_type": "stream",
     "text": [
      "photo_Links Len: 261\n",
      "photo_Labels Len: 261\n",
      "['Amirhossein', 'Amirhossein', 'Amirhossein', 'Amirhossein', 'Amirhossein', 'Amirhossein', 'Amirhossein', 'Amirhossein', 'Amirhossein', 'Amirhossein', 'Amirhossein', 'Amirhossein', 'Amirhossein', 'Amirhossein', 'Amirhossein', 'Amirhossein', 'Amirhossein', 'Amirhossein', 'Amirhossein', 'Amirhossein', 'Amirhossein', 'Amirhossein', 'Amirhossein', 'Amirhossein', 'Amirhossein', 'Amirhossein', 'Amirhossein', 'Amirhossein', 'Amirhossein', 'Amirhossein', 'Amirhossein', 'Amirhossein', 'Amirhossein', 'Amirhossein', 'Amirhossein', 'Amirhossein', 'Amirhossein', 'Amirhossein', 'Amirhossein', 'Amirhossein', 'Amirhossein', 'Amirhossein', 'Amirhossein', 'Amirhossein', 'Amirhossein', 'Amirhossein', 'Amirhossein', 'Amirhossein', 'Amirhossein', 'Amirhossein', 'Morteza', 'Morteza', 'Morteza', 'Morteza', 'Morteza', 'Morteza', 'Morteza', 'Morteza', 'Morteza', 'Morteza', 'Morteza', 'Morteza', 'Morteza', 'Morteza', 'Morteza', 'Morteza', 'Morteza', 'Morteza', 'Morteza', 'Morteza', 'Morteza']\n"
     ]
    }
   ],
   "source": [
    "if __name__ == '__main__':\n",
    "\n",
    "    face_descriptors, labels = load_training_data(r'C:\\Users\\AHB\\Desktop\\me'  )\n",
    "    if not face_descriptors:\n",
    "        print('No face images were loaded for training.')\n",
    "        exit()\n",
    "\n",
    "\n",
    "    svm_classifier = train_svm(face_descriptors, labels)\n",
    "    oneclass_classifier = train_one_class_svm(face_descriptors)\n",
    "\n",
    "    cap = cv2.VideoCapture(0)\n",
    "    cv2.namedWindow('Face Authentication')\n",
    "\n",
    "    while True:\n",
    "        ret, frame = cap.read()\n",
    "        if not ret:\n",
    "            print('Failed to capture webcam frame.')\n",
    "            break\n",
    "\n",
    "        result = authenticate_face(frame, svm_classifier)\n",
    "        resultp = authenticate_face(frame, oneclass_classifier)\n",
    "\n",
    "        if result:\n",
    "            cv2.rectangle(frame, (10, 10), (250, 60), (0, 255, 0), cv2.FILLED)\n",
    "            cv2.putText(frame, '{} Authenticated: {}'.format(resultp, result), (20, 50), cv2.FONT_HERSHEY_SIMPLEX, 1, (0, 0, 0), 2)\n",
    "        else:\n",
    "            cv2.rectangle(frame, (10, 10), (320, 60), (0, 0, 255), cv2.FILLED)\n",
    "            cv2.putText(frame, 'Authentication Failed', (20, 50), cv2.FONT_HERSHEY_SIMPLEX, 1, (0, 0, 0), 2)\n",
    "\n",
    "\n",
    "        cv2.imshow('Face Authentication', frame)\n",
    "\n",
    "        if cv2.waitKey(1) & 0xFF == ord('q'):\n",
    "            break\n",
    "\n",
    "    cap.release()\n",
    "    cv2.destroyAllWindows()\n"
   ]
  },
  {
   "cell_type": "code",
   "execution_count": null,
   "metadata": {},
   "outputs": [],
   "source": []
  }
 ],
 "metadata": {
  "kernelspec": {
   "display_name": "base",
   "language": "python",
   "name": "python3"
  },
  "language_info": {
   "codemirror_mode": {
    "name": "ipython",
    "version": 3
   },
   "file_extension": ".py",
   "mimetype": "text/x-python",
   "name": "python",
   "nbconvert_exporter": "python",
   "pygments_lexer": "ipython3",
   "version": "3.8.8"
  },
  "orig_nbformat": 4
 },
 "nbformat": 4,
 "nbformat_minor": 2
}
